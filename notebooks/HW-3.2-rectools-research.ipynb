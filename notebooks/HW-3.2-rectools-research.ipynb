{
 "cells": [
  {
   "cell_type": "code",
   "execution_count": 1,
   "id": "855d49cd",
   "metadata": {},
   "outputs": [],
   "source": [
    "import pandas as pd\n",
    "import numpy as np\n",
    "import scipy as sp\n",
    "import requests\n",
    "from tqdm.auto import tqdm\n",
    "from scipy.stats import mode \n",
    "from pprint import pprint\n",
    "from implicit.nearest_neighbours import CosineRecommender\n",
    "import warnings\n",
    "warnings.filterwarnings(\"ignore\")\n",
    "\n",
    "from rectools import Columns\n",
    "\n",
    "pd.set_option('display.max_columns', None)\n",
    "pd.set_option('display.max_colwidth', 200)"
   ]
  },
  {
   "cell_type": "code",
   "execution_count": 3,
   "id": "655cd033",
   "metadata": {},
   "outputs": [],
   "source": [
    "interactions = pd.read_csv('../data/kion_train/interactions.csv')\n",
    "\n",
    "interactions.rename(columns={'last_watch_dt': Columns.Datetime,\n",
    "                            'total_dur': Columns.Weight}, \n",
    "                    inplace=True) \n",
    "\n",
    "interactions['datetime'] = pd.to_datetime(interactions['datetime'])"
   ]
  },
  {
   "cell_type": "code",
   "execution_count": 6,
   "id": "193c411d",
   "metadata": {},
   "outputs": [
    {
     "name": "stdout",
     "output_type": "stream",
     "text": [
      "Start date and last date of the test fold: (Timestamp('2021-08-08 00:00:00'), Timestamp('2021-08-22 00:00:00'))\n",
      "Test fold borders: ['2021-08-08' '2021-08-15']\n",
      "Real number of folds: 1\n"
     ]
    }
   ],
   "source": [
    "from rectools.model_selection import TimeRangeSplitter\n",
    "from rectools.dataset import Interactions\n",
    "\n",
    "n_folds = 1\n",
    "unit = \"W\"\n",
    "n_units = 1\n",
    "periods = n_folds + 1\n",
    "freq = f\"{n_units}{unit}\"\n",
    "\n",
    "last_date = interactions[Columns.Datetime].max().normalize()\n",
    "start_date = last_date - pd.Timedelta(n_folds * n_units + 1, unit=unit)  \n",
    "print(f\"Start date and last date of the test fold: {start_date, last_date}\")\n",
    "    \n",
    "date_range = pd.date_range(start=start_date, periods=periods, freq=freq, tz=last_date.tz)\n",
    "print(f\"Test fold borders: {date_range.values.astype('datetime64[D]')}\")\n",
    "\n",
    "# generator of folds\n",
    "cv = TimeRangeSplitter(\n",
    "    date_range=date_range,\n",
    "    filter_already_seen=True,\n",
    "    filter_cold_items=True,\n",
    "    filter_cold_users=True,\n",
    ")\n",
    "print(f\"Real number of folds: {cv.get_n_splits(Interactions(interactions))}\")"
   ]
  },
  {
   "cell_type": "code",
   "execution_count": 8,
   "id": "38b80f9f",
   "metadata": {},
   "outputs": [],
   "source": [
    "(train_ids, test_ids, fold_info) = cv.split(Interactions(interactions), collect_fold_stats=True).__next__()"
   ]
  },
  {
   "cell_type": "code",
   "execution_count": 9,
   "id": "e3051991",
   "metadata": {},
   "outputs": [
    {
     "data": {
      "text/plain": [
       "array([      0,       1,       2, ..., 5476245, 5476247, 5476249])"
      ]
     },
     "execution_count": 9,
     "metadata": {},
     "output_type": "execute_result"
    }
   ],
   "source": [
    "train_ids"
   ]
  },
  {
   "cell_type": "code",
   "execution_count": 10,
   "id": "7bc27a2f",
   "metadata": {},
   "outputs": [
    {
     "data": {
      "text/plain": [
       "array([      6,      33,      56, ..., 5476229, 5476230, 5476240])"
      ]
     },
     "execution_count": 10,
     "metadata": {},
     "output_type": "execute_result"
    }
   ],
   "source": [
    "test_ids"
   ]
  },
  {
   "cell_type": "code",
   "execution_count": 11,
   "id": "ffdaad0c",
   "metadata": {},
   "outputs": [
    {
     "name": "stdout",
     "output_type": "stream",
     "text": [
      "users_mapping amount: 842129\n",
      "items_mapping amount: 15404\n"
     ]
    }
   ],
   "source": [
    "train = interactions.loc[train_ids]\n",
    "test = interactions.loc[test_ids]\n",
    "\n",
    "users_inv_mapping = dict(enumerate(train['user_id'].unique()))\n",
    "users_mapping = {v: k for k, v in users_inv_mapping.items()}\n",
    "\n",
    "items_inv_mapping = dict(enumerate(train['item_id'].unique()))\n",
    "items_mapping = {v: k for k, v in items_inv_mapping.items()}\n",
    "\n",
    "print(f\"users_mapping amount: {len(users_mapping)}\")\n",
    "print(f\"items_mapping amount: {len(items_mapping)}\")"
   ]
  },
  {
   "cell_type": "code",
   "execution_count": 12,
   "id": "a6664026",
   "metadata": {},
   "outputs": [],
   "source": [
    "from rectools.dataset import Dataset\n",
    "\n",
    "dataset = Dataset.construct(\n",
    "    interactions_df=train,\n",
    "    user_features_df=None,\n",
    "    item_features_df=None\n",
    ")"
   ]
  },
  {
   "cell_type": "markdown",
   "id": "88f5a65c",
   "metadata": {},
   "source": [
    "#  ItemKNN CosineRecommender"
   ]
  },
  {
   "cell_type": "code",
   "execution_count": 13,
   "id": "9c4682c5",
   "metadata": {},
   "outputs": [],
   "source": [
    "from implicit.nearest_neighbours import CosineRecommender\n",
    "from rectools.models.implicit_knn import ImplicitItemKNNWrapperModel\n",
    "\n",
    "item_knn = ImplicitItemKNNWrapperModel(model=CosineRecommender(K=30))\n",
    "item_knn.fit(dataset);"
   ]
  },
  {
   "cell_type": "code",
   "execution_count": 14,
   "id": "198faaa4",
   "metadata": {},
   "outputs": [],
   "source": [
    "recs_itemknn = item_knn.recommend(\n",
    "    test['user_id'].unique(), \n",
    "    dataset=dataset, \n",
    "    k=10, \n",
    "    filter_viewed=False\n",
    ")"
   ]
  },
  {
   "cell_type": "code",
   "execution_count": 15,
   "id": "76d1a3f5",
   "metadata": {},
   "outputs": [
    {
     "data": {
      "text/html": [
       "<div>\n",
       "<style scoped>\n",
       "    .dataframe tbody tr th:only-of-type {\n",
       "        vertical-align: middle;\n",
       "    }\n",
       "\n",
       "    .dataframe tbody tr th {\n",
       "        vertical-align: top;\n",
       "    }\n",
       "\n",
       "    .dataframe thead th {\n",
       "        text-align: right;\n",
       "    }\n",
       "</style>\n",
       "<table border=\"1\" class=\"dataframe\">\n",
       "  <thead>\n",
       "    <tr style=\"text-align: right;\">\n",
       "      <th></th>\n",
       "      <th>user_id</th>\n",
       "      <th>item_id</th>\n",
       "      <th>score</th>\n",
       "      <th>rank</th>\n",
       "    </tr>\n",
       "  </thead>\n",
       "  <tbody>\n",
       "    <tr>\n",
       "      <th>0</th>\n",
       "      <td>1016458</td>\n",
       "      <td>10440</td>\n",
       "      <td>20431.631150</td>\n",
       "      <td>1</td>\n",
       "    </tr>\n",
       "    <tr>\n",
       "      <th>1</th>\n",
       "      <td>1016458</td>\n",
       "      <td>734</td>\n",
       "      <td>8043.999962</td>\n",
       "      <td>2</td>\n",
       "    </tr>\n",
       "    <tr>\n",
       "      <th>2</th>\n",
       "      <td>1016458</td>\n",
       "      <td>12192</td>\n",
       "      <td>8033.599530</td>\n",
       "      <td>3</td>\n",
       "    </tr>\n",
       "    <tr>\n",
       "      <th>3</th>\n",
       "      <td>1016458</td>\n",
       "      <td>1986</td>\n",
       "      <td>7999.805731</td>\n",
       "      <td>4</td>\n",
       "    </tr>\n",
       "    <tr>\n",
       "      <th>4</th>\n",
       "      <td>1016458</td>\n",
       "      <td>4457</td>\n",
       "      <td>7763.204607</td>\n",
       "      <td>5</td>\n",
       "    </tr>\n",
       "  </tbody>\n",
       "</table>\n",
       "</div>"
      ],
      "text/plain": [
       "   user_id  item_id         score  rank\n",
       "0  1016458    10440  20431.631150     1\n",
       "1  1016458      734   8043.999962     2\n",
       "2  1016458    12192   8033.599530     3\n",
       "3  1016458     1986   7999.805731     4\n",
       "4  1016458     4457   7763.204607     5"
      ]
     },
     "execution_count": 15,
     "metadata": {},
     "output_type": "execute_result"
    }
   ],
   "source": [
    "recs_itemknn.head()"
   ]
  },
  {
   "cell_type": "code",
   "execution_count": 19,
   "id": "c075a976",
   "metadata": {},
   "outputs": [
    {
     "data": {
      "text/plain": [
       "{'prec@10': 0.017311708814214132,\n",
       " 'recall@10': 0.09520897568691472,\n",
       " 'MAP@10': 0.023145528903990274,\n",
       " 'novelty': 8.05318572965277,\n",
       " 'serendipity': 6.63288816067437e-05}"
      ]
     },
     "execution_count": 19,
     "metadata": {},
     "output_type": "execute_result"
    }
   ],
   "source": [
    "from rectools.metrics import Precision, Recall, MeanInvUserFreq, MAP, Serendipity, calc_metrics\n",
    "\n",
    "# calculate several classic (precision@k and recall@k) and \"beyond accuracy\" metrics\n",
    "metrics = {\n",
    "    \"prec@10\": Precision(k=10),\n",
    "    \"recall@10\": Recall(k=10),\n",
    "    \"MAP@10\": MAP(k=10),\n",
    "    \"novelty\": MeanInvUserFreq(k=10),\n",
    "    \"serendipity\": Serendipity(k=10),\n",
    "}\n",
    "\n",
    "catalog = train['item_id'].unique()\n",
    "\n",
    "metric_values_itemknn_cosine = calc_metrics(\n",
    "            metrics,\n",
    "            reco=recs_itemknn,\n",
    "            interactions=test,\n",
    "            prev_interactions=train,\n",
    "            catalog=catalog\n",
    "        )\n",
    "\n",
    "metric_values_itemknn_cosine"
   ]
  },
  {
   "cell_type": "markdown",
   "id": "b439f7fb",
   "metadata": {},
   "source": [
    "# ItemKNN TFIDFRecommender"
   ]
  },
  {
   "cell_type": "code",
   "execution_count": 22,
   "id": "e31f5560",
   "metadata": {},
   "outputs": [],
   "source": [
    "from implicit.nearest_neighbours import TFIDFRecommender\n",
    "from rectools.models.implicit_knn import ImplicitItemKNNWrapperModel\n",
    "\n",
    "item_knn_tfidf = ImplicitItemKNNWrapperModel(model=TFIDFRecommender(K=30))\n",
    "item_knn_tfidf.fit(dataset);"
   ]
  },
  {
   "cell_type": "code",
   "execution_count": 24,
   "id": "360eafab",
   "metadata": {},
   "outputs": [],
   "source": [
    "recs_itemknn_tfidf = item_knn_tfidf.recommend(\n",
    "    test['user_id'].unique(), \n",
    "    dataset=dataset, \n",
    "    k=10, \n",
    "    filter_viewed=False \n",
    ")"
   ]
  },
  {
   "cell_type": "code",
   "execution_count": 26,
   "id": "63c31f04",
   "metadata": {},
   "outputs": [
    {
     "data": {
      "text/html": [
       "<div>\n",
       "<style scoped>\n",
       "    .dataframe tbody tr th:only-of-type {\n",
       "        vertical-align: middle;\n",
       "    }\n",
       "\n",
       "    .dataframe tbody tr th {\n",
       "        vertical-align: top;\n",
       "    }\n",
       "\n",
       "    .dataframe thead th {\n",
       "        text-align: right;\n",
       "    }\n",
       "</style>\n",
       "<table border=\"1\" class=\"dataframe\">\n",
       "  <thead>\n",
       "    <tr style=\"text-align: right;\">\n",
       "      <th></th>\n",
       "      <th>user_id</th>\n",
       "      <th>item_id</th>\n",
       "      <th>score</th>\n",
       "      <th>rank</th>\n",
       "    </tr>\n",
       "  </thead>\n",
       "  <tbody>\n",
       "    <tr>\n",
       "      <th>0</th>\n",
       "      <td>1016458</td>\n",
       "      <td>10440</td>\n",
       "      <td>21745.376927</td>\n",
       "      <td>1</td>\n",
       "    </tr>\n",
       "    <tr>\n",
       "      <th>1</th>\n",
       "      <td>1016458</td>\n",
       "      <td>4457</td>\n",
       "      <td>10234.863308</td>\n",
       "      <td>2</td>\n",
       "    </tr>\n",
       "    <tr>\n",
       "      <th>2</th>\n",
       "      <td>1016458</td>\n",
       "      <td>7102</td>\n",
       "      <td>8987.878129</td>\n",
       "      <td>3</td>\n",
       "    </tr>\n",
       "    <tr>\n",
       "      <th>3</th>\n",
       "      <td>1016458</td>\n",
       "      <td>12192</td>\n",
       "      <td>8957.109813</td>\n",
       "      <td>4</td>\n",
       "    </tr>\n",
       "    <tr>\n",
       "      <th>4</th>\n",
       "      <td>1016458</td>\n",
       "      <td>1986</td>\n",
       "      <td>8369.832448</td>\n",
       "      <td>5</td>\n",
       "    </tr>\n",
       "  </tbody>\n",
       "</table>\n",
       "</div>"
      ],
      "text/plain": [
       "   user_id  item_id         score  rank\n",
       "0  1016458    10440  21745.376927     1\n",
       "1  1016458     4457  10234.863308     2\n",
       "2  1016458     7102   8987.878129     3\n",
       "3  1016458    12192   8957.109813     4\n",
       "4  1016458     1986   8369.832448     5"
      ]
     },
     "execution_count": 26,
     "metadata": {},
     "output_type": "execute_result"
    }
   ],
   "source": [
    "recs_itemknn_tfidf.head()"
   ]
  },
  {
   "cell_type": "code",
   "execution_count": 33,
   "id": "7a4d01f7",
   "metadata": {},
   "outputs": [
    {
     "data": {
      "text/plain": [
       "{'prec@10': 0.023772589549238603,\n",
       " 'recall@10': 0.12652382351172245,\n",
       " 'MAP@10': 0.03005237337960426,\n",
       " 'novelty': 6.699663403861505,\n",
       " 'serendipity': 0.00010222896681730396}"
      ]
     },
     "execution_count": 33,
     "metadata": {},
     "output_type": "execute_result"
    }
   ],
   "source": [
    "from rectools.metrics import Precision, Recall, MeanInvUserFreq, MAP, Serendipity, calc_metrics\n",
    "\n",
    "metrics = {\n",
    "    \"prec@10\": Precision(k=10),\n",
    "    \"recall@10\": Recall(k=10),\n",
    "    \"MAP@10\": MAP(k=10),\n",
    "    \"novelty\": MeanInvUserFreq(k=10),\n",
    "    \"serendipity\": Serendipity(k=10),\n",
    "}\n",
    "\n",
    "catalog = train['item_id'].unique()\n",
    "\n",
    "metric_values_itemknn_tfidf = calc_metrics(\n",
    "            metrics,\n",
    "            reco=recs_itemknn_tfidf,\n",
    "            interactions=test,\n",
    "            prev_interactions=train,\n",
    "            catalog=catalog\n",
    "        )\n",
    "\n",
    "metric_values_itemknn_tfidf"
   ]
  },
  {
   "cell_type": "markdown",
   "id": "2270cb27",
   "metadata": {},
   "source": [
    "# UserKNN BMP25"
   ]
  },
  {
   "cell_type": "code",
   "execution_count": 28,
   "id": "c7997faf",
   "metadata": {},
   "outputs": [],
   "source": [
    "from implicit.nearest_neighbours import BM25Recommender\n",
    "from rectools.models.implicit_knn import ImplicitItemKNNWrapperModel\n",
    "\n",
    "item_knn_bmp = ImplicitItemKNNWrapperModel(model=BM25Recommender(K=30))\n",
    "item_knn_bmp.fit(dataset);"
   ]
  },
  {
   "cell_type": "code",
   "execution_count": 29,
   "id": "c7ceb0e5",
   "metadata": {},
   "outputs": [
    {
     "data": {
      "text/html": [
       "<div>\n",
       "<style scoped>\n",
       "    .dataframe tbody tr th:only-of-type {\n",
       "        vertical-align: middle;\n",
       "    }\n",
       "\n",
       "    .dataframe tbody tr th {\n",
       "        vertical-align: top;\n",
       "    }\n",
       "\n",
       "    .dataframe thead th {\n",
       "        text-align: right;\n",
       "    }\n",
       "</style>\n",
       "<table border=\"1\" class=\"dataframe\">\n",
       "  <thead>\n",
       "    <tr style=\"text-align: right;\">\n",
       "      <th></th>\n",
       "      <th>user_id</th>\n",
       "      <th>item_id</th>\n",
       "      <th>score</th>\n",
       "      <th>rank</th>\n",
       "    </tr>\n",
       "  </thead>\n",
       "  <tbody>\n",
       "    <tr>\n",
       "      <th>0</th>\n",
       "      <td>1016458</td>\n",
       "      <td>10440</td>\n",
       "      <td>6.854547e+11</td>\n",
       "      <td>1</td>\n",
       "    </tr>\n",
       "    <tr>\n",
       "      <th>1</th>\n",
       "      <td>1016458</td>\n",
       "      <td>15297</td>\n",
       "      <td>2.323138e+11</td>\n",
       "      <td>2</td>\n",
       "    </tr>\n",
       "    <tr>\n",
       "      <th>2</th>\n",
       "      <td>1016458</td>\n",
       "      <td>13865</td>\n",
       "      <td>1.724740e+11</td>\n",
       "      <td>3</td>\n",
       "    </tr>\n",
       "    <tr>\n",
       "      <th>3</th>\n",
       "      <td>1016458</td>\n",
       "      <td>9728</td>\n",
       "      <td>1.383208e+11</td>\n",
       "      <td>4</td>\n",
       "    </tr>\n",
       "    <tr>\n",
       "      <th>4</th>\n",
       "      <td>1016458</td>\n",
       "      <td>4151</td>\n",
       "      <td>1.149358e+11</td>\n",
       "      <td>5</td>\n",
       "    </tr>\n",
       "  </tbody>\n",
       "</table>\n",
       "</div>"
      ],
      "text/plain": [
       "   user_id  item_id         score  rank\n",
       "0  1016458    10440  6.854547e+11     1\n",
       "1  1016458    15297  2.323138e+11     2\n",
       "2  1016458    13865  1.724740e+11     3\n",
       "3  1016458     9728  1.383208e+11     4\n",
       "4  1016458     4151  1.149358e+11     5"
      ]
     },
     "execution_count": 29,
     "metadata": {},
     "output_type": "execute_result"
    }
   ],
   "source": [
    "recs_itemknn_bmp = item_knn_bmp.recommend(\n",
    "    test['user_id'].unique(), \n",
    "    dataset=dataset, \n",
    "    k=10, \n",
    "    filter_viewed=False \n",
    ")\n",
    "\n",
    "recs_itemknn_bmp.head()"
   ]
  },
  {
   "cell_type": "code",
   "execution_count": 31,
   "id": "e99f3649",
   "metadata": {},
   "outputs": [
    {
     "data": {
      "text/plain": [
       "{'prec@10': 0.03252208701450242,\n",
       " 'recall@10': 0.1683399650610623,\n",
       " 'MAP@10': 0.04827657497255996,\n",
       " 'novelty': 3.9201705312554833,\n",
       " 'serendipity': 2.616232292298612e-05}"
      ]
     },
     "execution_count": 31,
     "metadata": {},
     "output_type": "execute_result"
    }
   ],
   "source": [
    "from rectools.metrics import Precision, Recall, MeanInvUserFreq, MAP, Serendipity, calc_metrics\n",
    "\n",
    "metrics = {\n",
    "    \"prec@10\": Precision(k=10),\n",
    "    \"recall@10\": Recall(k=10),\n",
    "    \"MAP@10\": MAP(k=10),\n",
    "    \"novelty\": MeanInvUserFreq(k=10),\n",
    "    \"serendipity\": Serendipity(k=10),\n",
    "}\n",
    "\n",
    "catalog = train['item_id'].unique()\n",
    "\n",
    "metric_values_itemknn_bmp = calc_metrics(\n",
    "            metrics,\n",
    "            reco=recs_itemknn_bmp,\n",
    "            interactions=test,\n",
    "            prev_interactions=train,\n",
    "            catalog=catalog\n",
    "        )\n",
    "\n",
    "metric_values_itemknn_bmp"
   ]
  },
  {
   "cell_type": "code",
   "execution_count": null,
   "id": "84fe056a",
   "metadata": {},
   "outputs": [],
   "source": []
  }
 ],
 "metadata": {
  "kernelspec": {
   "display_name": "Python 3 (ipykernel)",
   "language": "python",
   "name": "python3"
  },
  "language_info": {
   "codemirror_mode": {
    "name": "ipython",
    "version": 3
   },
   "file_extension": ".py",
   "mimetype": "text/x-python",
   "name": "python",
   "nbconvert_exporter": "python",
   "pygments_lexer": "ipython3",
   "version": "3.8.10"
  }
 },
 "nbformat": 4,
 "nbformat_minor": 5
}
